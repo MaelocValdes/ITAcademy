{
 "cells": [
  {
   "cell_type": "markdown",
   "metadata": {},
   "source": [
    "NIVEL 1"
   ]
  },
  {
   "cell_type": "markdown",
   "metadata": {},
   "source": [
    "- Ejercicio 1\n",
    "Calculadora del índice de masa corporal\n",
    "\n",
    "Escribe una función que calcule el IMC ingresado por el usuario/a, es decir, quien lo ejecute deberá ingresar estos datos.\n",
    "\n",
    "-La función debe clasificar el resultado en sus respectivas categorías-"
   ]
  },
  {
   "cell_type": "code",
   "execution_count": 31,
   "metadata": {},
   "outputs": [
    {
     "name": "stdout",
     "output_type": "stream",
     "text": [
      "Con un peso de 33.122kg y una altura de 1.5m tu IMC es de 14.72. Estas en la categoría BAJO PESO\n"
     ]
    }
   ],
   "source": [
    "peso = input(\"Bienvenido al calculador de índice de masa corporal. Por favor, introducte tu peso en Kg\") #Se pide el peso en Kg\n",
    "if peso.isdecimal or peso.isdigit(): #Si no se introduce un valor numérico se rechaza, si no se castea a float\n",
    "    peso = float(peso)\n",
    "\n",
    "    altura = input(\"Ahora introduce tu altura en metros\") #Se pide la altura en m\n",
    "    if altura.isdecimal or altura.isdigit(): #Si no se introduce un valor numérico se rechaza, si no se castea a float\n",
    "        altura = float(altura)\n",
    "        \n",
    "        imc = round(peso/altura ** 2, 2) #Se calcula el IMC\n",
    "\n",
    "        # Se filtra la categoría dependiendo del IMC\n",
    "        if imc < 18.5:\n",
    "            categoria = \"BAJO PESO\"\n",
    "        elif imc < 25:\n",
    "            categoria = \"PESO NORMAL\"\n",
    "        elif imc < 30:\n",
    "            categoria = \"SOBREPESO\"\n",
    "        else:\n",
    "            categoria = \"OBESIDAD\"\n",
    "\n",
    "        #Print resultado\n",
    "        print(f'Con un peso de {peso}kg y una altura de {altura}m tu IMC es de {imc}. Estas en la categoría {categoria}')\n",
    "\n",
    "    else:\n",
    "        print(f'ERROR: {altura} no es un valor válido. Por favor, vuelve a intentarlo')\n",
    "\n",
    "else:\n",
    "    print(f'ERROR: {peso} no es un valor válido. Por favor, vuelve a intentarlo')"
   ]
  },
  {
   "cell_type": "markdown",
   "metadata": {},
   "source": [
    "- Ejercicio 2\n",
    "Conversor de temperaturas.\n",
    "\n",
    "Existen diversas unidades de temperatura utilizadas en distintos contextos y regiones. Las más comunes son Celsius (°C), Fahrenheit (°F) y Kelvin (K). También existen otras unidades como Rankine (°Ra) y Réaumur (°Re). Selecciona al menos 2 conversores, de modo que al introducir una temperatura devuelva, como mínimo, dos conversiones."
   ]
  },
  {
   "cell_type": "code",
   "execution_count": 32,
   "metadata": {},
   "outputs": [
    {
     "name": "stdout",
     "output_type": "stream",
     "text": [
      "12.3451 grados celsius son 54.22 grados farenheit y 285.5 grados kelvin\n"
     ]
    }
   ],
   "source": [
    "tipoTemperatura = input(\"Selecciona que unidad de temperatura vas a usar: Celsius, Farenheit o Kelvin\").lower() #Se pide la medida a utilizar y se convierte a minuscula\n",
    "if tipoTemperatura in [\"celsius\", \"farenheit\", \"kelvin\"]: #Se checkea que se haya dado una medida válida\n",
    "    temperatura = input(\"Introduce la temperatura a convertir\") #Se pide la temperatura\n",
    "    if temperatura.isdecimal or temperatura.isdigit(): #Si se han introducido digitos se castea y se opera con ellos\n",
    "        \n",
    "        temperatura = float(temperatura)\n",
    "\n",
    "        if tipoTemperatura == \"celsius\":\n",
    "            tempCelFar = round((temperatura * 9/5)+32, 2)\n",
    "            tempCelKelv = round(temperatura + 273.15, 2)\n",
    "            print(f'{temperatura} grados {tipoTemperatura} son {tempCelFar} grados farenheit y {tempCelKelv} grados kelvin')\n",
    "        elif tipoTemperatura == \"farenheit\":\n",
    "            tempFarCel = round((temperatura - 32) * (5/9),2)\n",
    "            tempFarKelv = round(((temperatura - 32) * (5/9)) + 273.15, 2)\n",
    "            print(f'{temperatura} grados {tipoTemperatura} son {tempFarCel} grados celsius y {tempFarKelv} grados kelvin')    \n",
    "        elif tipoTemperatura == \"kelvin\":\n",
    "            tempKelvCel = round(temperatura - 273.15, 2)\n",
    "            tempKelvFar = round(((temperatura - 273.15) * (9/5)) + 32, 2)\n",
    "            print(f'{temperatura} grados {tipoTemperatura} son {tempKelvCel} grados celsius y {tempKelvFar} grados farenheit')\n",
    "\n",
    "    else: print(f'ERROR: {temperatura} no es un dígito y por lo tanto no se puede realizar la conversión. Por favor, inténtalo de nuevo')\n",
    "\n",
    "else:\n",
    "    print(f'ERROR: {tipoTemperatura} no es un tipo de temperatura válida. Por favor, vuelve a introducir un tipo de temperatura válido')"
   ]
  },
  {
   "cell_type": "markdown",
   "metadata": {},
   "source": [
    "- Ejercicio 3\n",
    "Contador de palabras de un texto.\n",
    "\n",
    "Escribe una función que dado un texto, muestre las veces que aparece cada palabra."
   ]
  },
  {
   "cell_type": "code",
   "execution_count": 65,
   "metadata": {},
   "outputs": [
    {
     "name": "stdout",
     "output_type": "stream",
     "text": [
      "{'a': 8}\n"
     ]
    }
   ],
   "source": [
    "import re #Necesario para hacer split por multiples caracteres\n",
    "\n",
    "texto = input(\"Introduce el texto\") #pedimos texto\n",
    "textoSeparado = re.split('[ ,;.:]', texto) #Chopeamos el texto teniendo en cuenta los posible separadores. Para eso importamos re\n",
    "wordsList = [] \n",
    "wordsDict = {}\n",
    "\n",
    "for word in textoSeparado:\n",
    "    wordsList.append(word) #Metemos las palabras chopeadas en una lista\n",
    "\n",
    "for word in wordsList: # Pedimos que evalue si la palabra esta en el diccionario, si no lo esta la añade con valor 1, si lo esta le suma 1\n",
    "    if word in wordsDict:\n",
    "        wordsDict[word] += 1\n",
    "    else:\n",
    "        wordsDict[word] = 1\n",
    "\n",
    "print(wordsDict)\n"
   ]
  },
  {
   "cell_type": "markdown",
   "metadata": {},
   "source": [
    "- Ejercicio 4\n",
    "Diccionario inverso.\n",
    "\n",
    "Resulta que el cliente tiene una encuesta muy antigua que se almacena en un diccionario y los resultados los necesita a la inversa, es decir, intercambiados las claves y valores. Los valores y claves en el diccionario original son únicos; si éste no es el caso, la función debería imprimir un mensaje de advertencia."
   ]
  },
  {
   "cell_type": "code",
   "execution_count": 114,
   "metadata": {},
   "outputs": [
    {
     "name": "stdout",
     "output_type": "stream",
     "text": [
      "error\n",
      "error\n",
      "error\n",
      "{}\n"
     ]
    }
   ],
   "source": [
    "diccionarioBase = {\"value1\": \"key1\",\n",
    "                   \"value2\": \"key2\",\n",
    "                   \"value3\": \"key3\",\n",
    "                   \"value2\": \"key2\"}\n",
    "diccionarioAlterado = {}\n",
    "\n",
    "# for value, key in diccionarioBase.items():\n",
    "#     diccionarioAlterado[key] = value\n",
    "\n",
    "for value, key in diccionarioBase.items():\n",
    "    if value or key in diccionarioAlterado:\n",
    "        print(\"error\")\n",
    "    else:\n",
    "        diccionarioAlterado[key] = value\n",
    "        print(\"pass\")\n",
    "\n",
    "print(diccionarioAlterado)"
   ]
  }
 ],
 "metadata": {
  "kernelspec": {
   "display_name": "Python 3",
   "language": "python",
   "name": "python3"
  },
  "language_info": {
   "codemirror_mode": {
    "name": "ipython",
    "version": 3
   },
   "file_extension": ".py",
   "mimetype": "text/x-python",
   "name": "python",
   "nbconvert_exporter": "python",
   "pygments_lexer": "ipython3",
   "version": "3.13.3"
  }
 },
 "nbformat": 4,
 "nbformat_minor": 2
}
