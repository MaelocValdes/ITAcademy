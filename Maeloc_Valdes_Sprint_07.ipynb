{
 "cells": [
  {
   "cell_type": "markdown",
   "id": "ca34e5f9",
   "metadata": {},
   "source": [
    "NIVEL 1"
   ]
  },
  {
   "cell_type": "markdown",
   "id": "d889d6cd",
   "metadata": {},
   "source": [
    "- Ejercicio 1\n",
    "Calculadora del índice de masa corporal\n",
    "\n",
    "Escribe una función que calcule el IMC ingresado por el usuario/a, es decir, quien lo ejecute deberá ingresar estos datos.\n",
    "\n",
    "-La función debe clasificar el resultado en sus respectivas categorías-"
   ]
  },
  {
   "cell_type": "code",
   "execution_count": null,
   "id": "c08ea085",
   "metadata": {},
   "outputs": [],
   "source": [
    "# Se pide el peso en Kg\n",
    "def pedimosPeso():\n",
    "    peso = input(\"Bienvenido al calculador de índice de masa corporal. Por favor, introducte tu peso en Kg\") \n",
    "\n",
    "# Se intenta convertir en float. Si no se puede, arroja un error\n",
    "    try:\n",
    "        peso = float(peso)\n",
    "    except ValueError:\n",
    "        print(f'ERROR: {peso} no es un valor válido. Por favor, vuelve a intentarlo') \n",
    "\n",
    "# Si el valor no es un float se repite la pedida de input hasta que lo sea. Se arroja un error cuando no lo es\n",
    "    while not isinstance(peso, float):\n",
    "        peso = input(\"Por favor, introducte tu peso en Kg\")\n",
    "        try:\n",
    "            peso = float(peso)\n",
    "        except ValueError:\n",
    "            print(f'ERROR: {peso} no es un valor válido. Por favor, vuelve a intentarlo')\n",
    "\n",
    "# La función devuelve el peso introducido, casteado como float    \n",
    "    return peso\n",
    "\n",
    "# Se pide la altura en metros\n",
    "def pedimosAltura():\n",
    "    altura = input(\"Ahora introduce tu altura en metros\")\n",
    "\n",
    "# Se intenta convertir en float. Si no se puede, arroja un error\n",
    "    try:\n",
    "        altura = float(altura)\n",
    "    except ValueError:\n",
    "        print(f'ERROR: {altura} no es un valor válido. Por favor, vuelve a intentarlo')\n",
    "\n",
    "# Si el valor no es un float se repite la pedida de input hasta que lo sea. Se arroja un error cuando no lo es\n",
    "    while not isinstance(altura, float):\n",
    "        altura = input(\"Introduce tu altura en metros\")\n",
    "        try:\n",
    "            altura = float(altura)\n",
    "        except ValueError:\n",
    "            print(f'ERROR: {altura} no es un valor válido. Por favor, vuelve a intentarlo')\n",
    "\n",
    "# La función devuelve la altura introducida, casteada como float  \n",
    "    return altura\n",
    "\n",
    "# Se calcula y se devuelve el IMC\n",
    "def imcNum(peso, altura):\n",
    "    return round(peso / altura ** 2, 2)\n",
    "\n",
    "# Se filtra la categoría dependiendo del IMC\n",
    "def imcCategoria(imcCalculado):\n",
    "    if imcCalculado < 18.5:\n",
    "        categoriaDefVar = \"BAJO PESO\"\n",
    "    elif imcCalculado < 25:\n",
    "        categoriaDefVar = \"PESO NORMAL\"\n",
    "    elif imcCalculado < 30:\n",
    "        categoriaDefVar = \"SOBREPESO\"\n",
    "    else:\n",
    "        categoriaDefVar = \"OBESIDAD\"\n",
    "\n",
    "# La función devuelve el nombre de la categoría asociado al imc, devuelto por la anterior función\n",
    "    return categoriaDefVar\n",
    "\n",
    "# Print resultado\n",
    "def resultadoPrint(peso, altura, imc, categoria):\n",
    "    print(f'Con un peso de {peso}kg y una altura de {altura}m tu IMC es de {imc}. Estas en la categoría {categoria}')\n",
    "\n",
    "# Se asignan las funciones a variables y se monta la calculadora\n",
    "def calculadoraIMC():\n",
    "    pesoVar = pedimosPeso()\n",
    "    alturaVar = pedimosAltura()\n",
    "    imcVar = imcNum(pesoVar, alturaVar)\n",
    "    imcCategoriaVar = imcCategoria(imcVar)\n",
    "    resultadoVar = resultadoPrint(pesoVar, alturaVar, imcVar, imcCategoriaVar)\n"
   ]
  },
  {
   "cell_type": "code",
   "execution_count": 2,
   "id": "50ad3538",
   "metadata": {},
   "outputs": [
    {
     "name": "stdout",
     "output_type": "stream",
     "text": [
      "ERROR: Kilos no es un valor válido. Por favor, vuelve a intentarlo\n",
      "ERROR: Metros no es un valor válido. Por favor, vuelve a intentarlo\n",
      "Con un peso de 50.0kg y una altura de 1.5m tu IMC es de 22.22. Estas en la categoría PESO NORMAL\n"
     ]
    }
   ],
   "source": [
    "calculadoraIMC()"
   ]
  },
  {
   "cell_type": "markdown",
   "id": "c7efd8c4",
   "metadata": {},
   "source": [
    "- Ejercicio 2\n",
    "Conversor de temperaturas.\n",
    "\n",
    "Existen diversas unidades de temperatura utilizadas en distintos contextos y regiones. Las más comunes son Celsius (°C), Fahrenheit (°F) y Kelvin (K). También existen otras unidades como Rankine (°Ra) y Réaumur (°Re). Selecciona al menos 2 conversores, de modo que al introducir una temperatura devuelva, como mínimo, dos conversiones."
   ]
  },
  {
   "cell_type": "code",
   "execution_count": null,
   "id": "f0ca7ce5",
   "metadata": {},
   "outputs": [],
   "source": [
    "# Se pide el tipo de temperatura a convertir. Se dan 3 opciones. Se transforma el input a minúscula\n",
    "def pedimosTipoTemperatura():\n",
    "    tipoTemp = input(\"Selecciona que unidad de temperatura vas a usar: Celsius, Farenheit o Kelvin\").lower()\n",
    "\n",
    "# Hasta que no se escriba una de las 3 opciones, el programa no continúa.\n",
    "    while tipoTemp not in [\"celsius\", \"farenheit\", \"kelvin\"]:\n",
    "        print(f\"ERROR: {tipoTemp} no es un tipo unidad de temperatura válida\")\n",
    "        tipoTemp = input(f\"{tipoTemp} no es un tipo unidad de temperatura válida. Escribe Celsius, Farenheit o Kelvin\").lower()\n",
    "\n",
    "# La función devuelve el tipo de temperatura a convertir  \n",
    "    return tipoTemp\n",
    "\n",
    "# Se pide la temperatura y se intenta castear a float\n",
    "def pedimosTemperatura():\n",
    "    temp = input(\"Introduce la temperatura a convertir\")\n",
    "\n",
    "    try:\n",
    "        temp = float(temp)\n",
    "    except ValueError:\n",
    "        print(f'ERROR: {temp} no es un dígito y por lo tanto no se puede realizar la conversión. Por favor, inténtalo de nuevo')\n",
    "\n",
    "# Si el valor no es casteable se repite este proceso hasta que lo sea. Es decir, hasta que se introduzca un número    \n",
    "    while not isinstance(temp, float):\n",
    "        temp = input(\"Introduce una temperatur válida a convertir\")\n",
    "        try:\n",
    "            temp = float(temp)\n",
    "        except ValueError:\n",
    "            print(f'ERROR: {temp} no es un dígito y por lo tanto no se puede realizar la conversión. Por favor, inténtalo de nuevo')\n",
    "\n",
    "# La función devuelve la temperatura introducida como float\n",
    "    return temp\n",
    "\n",
    "# En función del tipo de temperatura elegido y la temperatura proporcionada, se calculan los procesos correspondientes y se devuelve un print con el resultado\n",
    "def transformacion(tempType, tempValue):\n",
    "    if tempType == \"celsius\":\n",
    "        tempCelFar = round((tempValue * 9/5)+32, 2)\n",
    "        tempCelKelv = round(tempValue + 273.15, 2)\n",
    "        resultado = print(f'{tempValue} grados {tempType} son {tempCelFar} grados farenheit y {tempCelKelv} grados kelvin')\n",
    "    elif tempType == \"farenheit\":\n",
    "        tempFarCel = round((tempValue - 32) * (5/9),2)\n",
    "        tempFarKelv = round(((tempValue - 32) * (5/9)) + 273.15, 2)\n",
    "        resultado = print(f'{tempValue} grados {tempType} son {tempFarCel} grados celsius y {tempFarKelv} grados kelvin')   \n",
    "    elif tempType == \"kelvin\":\n",
    "        tempKelvCel = round(tempValue - 273.15, 2)\n",
    "        tempKelvFar = round(((tempValue - 273.15) * (9/5)) + 32, 2)\n",
    "        resultado = print(f'{tempValue} grados {tempType} son {tempKelvCel} grados celsius y {tempKelvFar} grados farenheit')\n",
    "\n",
    "# La función devuelve el print correspondiente\n",
    "    return resultado\n",
    "\n",
    "# Se asignan las funciones a variables y se monta el conversor\n",
    "def conversorDeTemperatura():\n",
    "    temperatureTypeVar = pedimosTipoTemperatura()\n",
    "    temperatureValueVar = pedimosTemperatura()\n",
    "    transformacionVar = transformacion(temperatureTypeVar, temperatureValueVar)\n"
   ]
  },
  {
   "cell_type": "code",
   "execution_count": 2,
   "id": "2bc8760d",
   "metadata": {},
   "outputs": [
    {
     "name": "stdout",
     "output_type": "stream",
     "text": [
      "ERROR: cersos no es un tipo unidad de temperatura válida\n",
      "ERROR: celsis no es un tipo unidad de temperatura válida\n",
      "ERROR: Temperatura no es un dígito y por lo tanto no se puede realizar la conversión. Por favor, inténtalo de nuevo\n",
      "ERROR: Cincuenta no es un dígito y por lo tanto no se puede realizar la conversión. Por favor, inténtalo de nuevo\n",
      "50.0 grados celsius son 122.0 grados farenheit y 323.15 grados kelvin\n"
     ]
    }
   ],
   "source": [
    "conversorDeTemperatura()"
   ]
  },
  {
   "cell_type": "markdown",
   "id": "8aefe1c7",
   "metadata": {},
   "source": [
    "- Ejercicio 3\n",
    "Contador de palabras de un texto.\n",
    "\n",
    "Escribe una función que dado un texto, muestre las veces que aparece cada palabra."
   ]
  },
  {
   "cell_type": "code",
   "execution_count": 3,
   "id": "999ee7df",
   "metadata": {},
   "outputs": [],
   "source": [
    "import re"
   ]
  },
  {
   "cell_type": "code",
   "execution_count": 4,
   "id": "ff55836c",
   "metadata": {},
   "outputs": [],
   "source": [
    "# Pedimos un texto a procesar. La funcion devuelve dicho texto en minúsculas\n",
    "def texto():\n",
    "    return input(\"Introduce el texto\").lower() \n",
    "\n",
    "# Se corta el texto en palabras, basandose dicha separacion en caracteres concretos. El texto se convierte en una lista con multiples palabras\n",
    "def textoChopeado(textoCortar):\n",
    "# Se corta el texto en función de los separadores\n",
    "    listaConPalabras = re.split('[ ,;.:\\n()!¡¿?/]+', textoCortar)\n",
    "\n",
    "# Se eliminan caracteres vacios creados en la separación\n",
    "    for item in listaConPalabras:\n",
    "        if item == \"\":\n",
    "            listaConPalabras.remove(item)\n",
    "\n",
    "# La función devuelve la lista limpia\n",
    "    return listaConPalabras\n",
    "\n",
    "# Se crea un diccionario y se añaden las palabras como Key y las cuentas como value\n",
    "def palabrasEnDiccionario(lista):\n",
    "# Se crea el diccionario vacío\n",
    "    diccionario = {}\n",
    "\n",
    "# Evalua si la palabra esta en el diccionario como key, si no lo esta la añade y le asigna valor 1, si lo está, le suma 1\n",
    "    for word in lista: \n",
    "        if word in diccionario:\n",
    "            diccionario[word] += 1\n",
    "        else:\n",
    "            diccionario[word] = 1\n",
    "\n",
    "# La función devuelve el diccionario\n",
    "    return diccionario\n",
    "\n",
    "# La función devuelve el diccionario printado\n",
    "def printFinal(diccionario):\n",
    "    print(diccionario)\n",
    "\n",
    "# Se asignan variables a las funciones y se monta el contador de palabras\n",
    "def contadorFinal():\n",
    "    textoPedido = texto()\n",
    "    textoChopeadoVar = textoChopeado(textoPedido)\n",
    "    palabrasEnDiccionarioVar = palabrasEnDiccionario(textoChopeadoVar)\n",
    "    printFinalVar = printFinal(palabrasEnDiccionarioVar)\n"
   ]
  },
  {
   "cell_type": "code",
   "execution_count": 5,
   "id": "97158e24",
   "metadata": {},
   "outputs": [
    {
     "name": "stdout",
     "output_type": "stream",
     "text": [
      "{'este': 2, 'es': 1, 'un': 1, 'texto': 2, 'de': 1, 'pueba': 1, 'por': 1, 'lo': 1, 'que': 1, 'se': 1, 'repite': 1, 'la': 1, 'palabra': 1, 'en': 1, 'input': 1}\n"
     ]
    }
   ],
   "source": [
    "contadorFinal()"
   ]
  },
  {
   "cell_type": "markdown",
   "id": "57a61d09",
   "metadata": {},
   "source": [
    "- Ejercicio 4\n",
    "Diccionario inverso.\n",
    "\n",
    "Resulta que el cliente tiene una encuesta muy antigua que se almacena en un diccionario y los resultados los necesita a la inversa, es decir, intercambiados las claves y valores. Los valores y claves en el diccionario original son únicos; si éste no es el caso, la función debería imprimir un mensaje de advertencia."
   ]
  },
  {
   "cell_type": "code",
   "execution_count": 8,
   "id": "50dce444",
   "metadata": {},
   "outputs": [],
   "source": [
    "# La función devuelve el diccionario en cuestión\n",
    "def diccionarioBaseFn():\n",
    "    return {\"value1\": \"key1\",\n",
    "            \"value2\": \"key2\",\n",
    "            \"value3\": \"key3\",\n",
    "            \"value4\": \"key3\"}\n",
    "    \n",
    "# La función devuelve el nuevo diccionario vacío\n",
    "def diccionarioAlterado():\n",
    "    return {}\n",
    "\n",
    "# Se realiza la conversión\n",
    "def proceso(dBase, dAlterado):\n",
    "# Por cada item en el diccionario base: Si el valor está como key en el nuevo, se printa un error. Si no, se añade como key, y la key del primer diccionario como value en el segundo\n",
    "    for key, value in dBase.items():\n",
    "        if value in dAlterado.keys():\n",
    "            print(\"WARNING: multiple keys for one value\")\n",
    "        else:\n",
    "            dAlterado[value] = key\n",
    "\n",
    "# La función devuelve el diccionario con las calves intercambiadas\n",
    "    return dAlterado\n",
    "\n",
    "# La función printa el diccionario con las claves intercambiadas\n",
    "def final(diccionarioFinal):\n",
    "    print(diccionarioFinal)\n",
    "\n",
    "# Se asignan variables a las funciones y se monta el volteador de diccionarios con warning\n",
    "def giradorDiccionario():\n",
    "    origen = diccionarioBaseFn()\n",
    "    base = diccionarioAlterado()\n",
    "    accion = proceso(origen, base)\n",
    "    resultado = final(accion)"
   ]
  },
  {
   "cell_type": "code",
   "execution_count": 9,
   "id": "2ee74728",
   "metadata": {},
   "outputs": [
    {
     "name": "stdout",
     "output_type": "stream",
     "text": [
      "WARNING: multiple keys for one value\n",
      "{'key1': 'value1', 'key2': 'value2', 'key3': 'value3'}\n"
     ]
    }
   ],
   "source": [
    "giradorDiccionario()"
   ]
  },
  {
   "cell_type": "markdown",
   "id": "5b2b121c",
   "metadata": {},
   "source": [
    "NIVEL 2"
   ]
  },
  {
   "cell_type": "markdown",
   "id": "95384cb0",
   "metadata": {},
   "source": [
    "Diccionario inverso con duplicados\n",
    "\n",
    "Continuando con el ejercicio 4 del nivel 1: al cliente se olvidó de comentar un detalle y resulta que los valores en el diccionario original pueden duplicarse y más, por lo que las claves intercambiadas pueden tener duplicados. En este caso, en el ejercicio anterior imprimías un mensaje de advertencia; de ser una lista."
   ]
  },
  {
   "cell_type": "code",
   "execution_count": 11,
   "id": "cd730bfb",
   "metadata": {},
   "outputs": [],
   "source": [
    "# La función devuelve el diccionario en cuestión\n",
    "def diccionarioBase():\n",
    "    return {\"value1\": \"key1\",\n",
    "            \"value2\": \"key2\",\n",
    "            \"value3\": \"key3\",\n",
    "            \"value4\": \"key3\"}\n",
    "\n",
    "# La función devuelve el nuevo diccionario vacío\n",
    "def diccionarioAlterado():\n",
    "    return {}\n",
    "\n",
    "# Se realiza la conversión\n",
    "def giradoProceso(dic, nuevoDic):\n",
    "# Por cada item en el diccionario base: Si el valor está como key en el nuevo, la key antigua se añade a la lista como valor. Si no, se añade como key, y la key del primer diccionario como value en el segundo (como una lista)\n",
    "    for key, value in dic.items():\n",
    "        if value in nuevoDic.keys():\n",
    "            nuevoDic[value].append(key)\n",
    "        else:\n",
    "            nuevoDic[value] = [key]\n",
    "\n",
    "# La función devuelve el diccionario con las calves intercambiadas\n",
    "    return nuevoDic\n",
    "\n",
    "# En el nuevo diccionario, revisamos las listas con un solo item y nos quedamos con el. En resumen: Formateamos para que ya no sean listas\n",
    "def limpiado(nuevoDic):\n",
    "    for key, value in nuevoDic.items():\n",
    "        if len(nuevoDic[key]) == 1:\n",
    "            nuevoDic[key] = nuevoDic[key][0]\n",
    "\n",
    "# La función devuelve el diccionario \"limpio\"    \n",
    "    return nuevoDic\n",
    "\n",
    "# la función printa el diccionario con las claves intercambiadas\n",
    "def printado(nuevoDic):\n",
    "    print(nuevoDic)\n",
    "\n",
    "# Se asignan variables a las funciones y se monta el volteador de diccionarios con listas en los valores\n",
    "def giradorFinal():\n",
    "    diccionarioBaseVar = diccionarioBase()\n",
    "    diccionarioAlteradoVar = diccionarioAlterado()\n",
    "    giradoProcesoVar = giradoProceso(diccionarioBaseVar, diccionarioAlteradoVar)\n",
    "    limpiadoVar = limpiado(giradoProcesoVar)\n",
    "    printadoVar = printado(limpiadoVar)\n"
   ]
  },
  {
   "cell_type": "code",
   "execution_count": 12,
   "id": "d435d58f",
   "metadata": {},
   "outputs": [
    {
     "name": "stdout",
     "output_type": "stream",
     "text": [
      "{'key1': 'value1', 'key2': 'value2', 'key3': ['value3', 'value4']}\n"
     ]
    }
   ],
   "source": [
    "giradorFinal()"
   ]
  },
  {
   "cell_type": "markdown",
   "id": "0ab5763e",
   "metadata": {},
   "source": [
    "Ejercicio 2\n",
    "Conversión de tipos de datos\n",
    "\n",
    "El cliente recibe una lista de datos y necesita generar dos listas, la primera donde estarán todos los elementos que pudieron convertirse en flotantes y la otra donde están los elementos que no pudieron convertirse. Ejemplo de la lista que recibe el cliente: [ '1.3', 'one' , '1e10' , 'seven', '3-1/2', ('2',1,1.4,'not-a-number'), [1,2,'3','3.4']]"
   ]
  },
  {
   "cell_type": "code",
   "execution_count": null,
   "id": "99d14b4e",
   "metadata": {},
   "outputs": [],
   "source": [
    "# La función devuelve la lista a tratar\n",
    "def listaOriginal():\n",
    "    return ['1.3', 'one' , '1e10' , 'seven', '3-1/2', ('2',1,1.4,'not-a-number'), [1,2,'3','3.4']]\n",
    "\n",
    "# La función devuelve la lista donde se van a incluir los valores \"limpios\"\n",
    "def listaLimpia():\n",
    "    return []\n",
    "\n",
    "# La función devuelve la lista donde se van a incluir los valores que se pueden castear en float\n",
    "def listaNumeros():\n",
    "    return []\n",
    "\n",
    "# La función devuelve la lista donde se van a incluir los valores que NO se pueden castear en float\n",
    "def listaNoNumeros():\n",
    "    return []\n",
    "\n",
    "# Analizamos elemento a elemento y lo metemos en una lista nueva. habría que añadir líneas de codigo si hubiese nuevas estructuras de datos\n",
    "def limpieza(lOrigen, lLimpia):\n",
    "    for element in lOrigen:\n",
    "        if isinstance(element, str):\n",
    "            lLimpia.append(element)\n",
    "        if isinstance(element, tuple):\n",
    "            for subelement in element:\n",
    "                lLimpia.append(subelement)\n",
    "        if isinstance(element, list):\n",
    "            for subelement in element:\n",
    "                lLimpia.append(subelement)\n",
    "\n",
    "    return lLimpia\n",
    "\n",
    "# Filtramos cada elemento de la lista \"limpia\" en una lista según el criterio requerido y las juntamos en una tupla\n",
    "def procesamiento(lLimpia, lNum, lNoNum):\n",
    "    for element in lLimpia:\n",
    "        try:\n",
    "            float(element)\n",
    "            lNum.append(element)\n",
    "        except ValueError:\n",
    "            lNoNum.append(element)\n",
    "\n",
    " # La función devuelve la tupla compuesta por ambas listas    \n",
    "    return (lNum, lNoNum)\n",
    "\n",
    "# La función devuelve un print de la tupla\n",
    "def printFn(lFinal):\n",
    "    print(lFinal)\n",
    "\n",
    "# Se asignan variables a las funciones y se monta el script requerido\n",
    "def funcionSeparadora():\n",
    "    listaOriginalVar = listaOriginal()\n",
    "    listaLimpiaVar = listaLimpia()\n",
    "    listaNumerosVar = listaNumeros()\n",
    "    listaNoNumerosVar = listaNoNumeros()\n",
    "    limpiezaVar = limpieza(listaOriginalVar, listaLimpiaVar)\n",
    "    procesamientoVar = procesamiento(limpiezaVar, listaNumerosVar, listaNoNumerosVar)\n",
    "    printFnVar = printFn(procesamientoVar)"
   ]
  },
  {
   "cell_type": "code",
   "execution_count": 2,
   "id": "afaad84e",
   "metadata": {},
   "outputs": [
    {
     "name": "stdout",
     "output_type": "stream",
     "text": [
      "(['1.3', '1e10', '2', 1, 1.4, 1, 2, '3', '3.4'], ['one', 'seven', '3-1/2', 'not-a-number'])\n"
     ]
    }
   ],
   "source": [
    "funcionSeparadora()"
   ]
  },
  {
   "cell_type": "markdown",
   "id": "f8724427",
   "metadata": {},
   "source": [
    "NIVEL 3"
   ]
  },
  {
   "cell_type": "markdown",
   "id": "8cf6fdb8",
   "metadata": {},
   "source": [
    "Ejercicio 1\n",
    "\n",
    "Contador y ordenador de palabras de un texto.\n",
    "\n",
    "El cliente quedó contento con el contador de palabras, pero ahora quiere leer archivos TXT y que calcule la frecuencia de cada palabra ordenadas dentro de las entradas habituales del diccionario según la letra con la que comienzan, es decir, las claves deben ir de la A a la Z y dentro de la A debemos ir de la A a Z. \"tu_me_quieres_blanca.txt\""
   ]
  },
  {
   "cell_type": "code",
   "execution_count": 5,
   "id": "79ddaab2",
   "metadata": {},
   "outputs": [],
   "source": [
    "import re"
   ]
  },
  {
   "cell_type": "code",
   "execution_count": 6,
   "id": "00467a56",
   "metadata": {},
   "outputs": [],
   "source": [
    "# Se importa el texto en cuestión y se abre como lectura (utf-8)\n",
    "def importarTextoBlanca():\n",
    "    with open (\"C:\\\\Users\\\\Maeloc\\\\Desktop\\\\IT_Academy\\\\Sprint_07\\\\tu_me_quieres_blanca.txt\", 'r', encoding='utf-8') as file:\n",
    "        textoBlancaRaw = file.read()\n",
    "\n",
    "# La función devuelve el texto \"leido\"\n",
    "    return textoBlancaRaw\n",
    "\n",
    "# La función devuelve una lista con las palabras del texto. Para ello se aplica la separación en función de x caracteres\n",
    "def textoBlancaSeparado(BlancaRaw):\n",
    "    return re.split('[ ,;.:\\n()!¡¿?]+', BlancaRaw)\n",
    "\n",
    "# La función devuelve una lista vacía que se usará para filtrar y ordenar el texto\n",
    "def listaPalabrasProcesadas():\n",
    "    return []\n",
    "\n",
    "# Se añaden las palabras separadas del texto en minscula a otra lista. Se ordenan alfabeticamente y se eliminan los vacios que se crean al separar el texto\n",
    "def procesamientoTexto(tBS, lPalabrasSeparadas):\n",
    "# Se transforman las palabras a minuscula y se añaden a la nueva lista\n",
    "    for palabra in tBS:\n",
    "        lPalabrasSeparadas.append(palabra.lower())\n",
    "\n",
    "# Se ordenan alfabeticamente\n",
    "    lPalabrasSeparadas = sorted(lPalabrasSeparadas)\n",
    "\n",
    "# Se eliminan vacios\n",
    "    for palabra in lPalabrasSeparadas:\n",
    "        if palabra == \"\":\n",
    "            lPalabrasSeparadas.remove(palabra)\n",
    "\n",
    "# La función devuelve la lista limpia\n",
    "    return lPalabrasSeparadas\n",
    "\n",
    "# La función devuelve un diccionario vacío para contar las palabras\n",
    "def diccionarioCuenta():\n",
    "    return {}\n",
    "\n",
    "# Se cuentan las palabras\n",
    "def procesoCuenta(lPal, dCuenta):\n",
    "# Por cada palabra de la lista de palabras: Si existe en el diccionario como key se suma 1, si no se introduce como key y se le asigna el valor 1\n",
    "    for item in lPal:\n",
    "        if item in dCuenta:\n",
    "            dCuenta[item] += 1\n",
    "        else:\n",
    "            dCuenta[item] = 1\n",
    "\n",
    "# La función devuelve el diccionario con cada palabra (key) y las veces que aparece en el texto (valor)\n",
    "    return dCuenta\n",
    "\n",
    "# La función devuelve un diccionario vacio donde se asignara la inicial de la clave como nueva clave\n",
    "def diccionarioLetras():\n",
    "    return {}\n",
    "\n",
    "# Por cada palabra en el diccionario, se evalua su inicial y se setea como key en un nuevo diccionario, dejando el primer diccionario como value del segundo\n",
    "def asignacion(dCuenta, dLetras):\n",
    "# Por cada item en el \"diccionario de cuentas\" se extrae el primer caracter de la key (la inicial). Si esa inicial no existe como key en el nuevo diccionario se crea y se asigna un diccionario vacio como valor. Si ya existe, se añade el grupo key/value del primer diccionario como value a dicha inicial.\n",
    "    for palabra, cuenta in dCuenta.items():\n",
    "        letraInicial = palabra[0]\n",
    "        if letraInicial not in dLetras.keys():\n",
    "            dLetras[letraInicial] = {}\n",
    "        dLetras[letraInicial][palabra] = cuenta\n",
    "\n",
    "# La función devuelve el diccionario ordenado por letras\n",
    "    return dLetras\n",
    "\n",
    "# La función devuelve el pront del diccionario\n",
    "def printDLetras(dLetras):\n",
    "    print(dLetras)\n",
    "\n",
    "# Se asignan variables a las funciones y se monta el script requerido\n",
    "def contadorOrdenado():\n",
    "    importarTextoBlancaVar = importarTextoBlanca()\n",
    "    textoBlancaSeparadoVar = textoBlancaSeparado(importarTextoBlancaVar)\n",
    "    listaPalabrasProcesadasVar = listaPalabrasProcesadas()\n",
    "    procesamientoTextoVar = procesamientoTexto(textoBlancaSeparadoVar, listaPalabrasProcesadasVar)\n",
    "    diccionarioCuentaVar = diccionarioCuenta()\n",
    "    procesoCuentaVar = procesoCuenta(procesamientoTextoVar, diccionarioCuentaVar)\n",
    "    diccionarioLetrasVar = diccionarioLetras()\n",
    "    asignacionVar = asignacion(procesoCuentaVar, diccionarioLetrasVar)\n",
    "    printDLetrasVar = printDLetras(asignacionVar)\n"
   ]
  },
  {
   "cell_type": "code",
   "execution_count": 7,
   "id": "a7cb50c0",
   "metadata": {},
   "outputs": [
    {
     "name": "stdout",
     "output_type": "stream",
     "text": [
      "{'a': {'a': 3, 'agua': 1, 'al': 2, 'alba': 4, 'alcobas': 1, 'alimenta': 1, 'alma': 1, 'amarga': 1, 'azucena': 1}, 'b': {'baco': 1, 'banquete': 1, 'bebe': 1, 'blanca': 3, 'boca': 1, 'bosques': 1, 'buen': 1}, 'c': {'cabañas': 1, 'carnes': 2, 'casta': 3, 'cerrada': 1, 'con': 4, 'conservas': 1, 'copas': 1, 'corola': 1, 'corriste': 1, 'cuando': 2, 'cubierto': 1, 'cuerpo': 1, 'cuáles': 1}, 'd': {'de': 8, 'dejaste': 1, 'del': 1, 'diga': 1, 'dios': 2, 'duerme': 1}, 'e': {'el': 4, 'ellas': 1, 'en': 4, 'engaño': 1, 'enredada': 1, 'entonces': 1, 'escarcha': 1, 'espumas': 1, 'esqueleto': 1, 'estrago': 1}, 'f': {'festejando': 1, 'filtrado': 1, 'frutos': 1}, 'h': {'habla': 1, 'hacia': 1, 'haya': 1, 'hayas': 1, 'hermana': 1, 'hombre': 1, 'hubiste': 1, 'huye': 1}, 'i': {'intacto': 1}, 'j': {'jardines': 1}, 'l': {'la': 3, 'labios': 1, 'las': 7, 'lo': 2, 'los': 4, 'luna': 1, 'lévate': 1, 'límpiate': 1}, 'm': {'mano': 1, 'manos': 1, 'margarita': 1, 'me': 10, 'mi': 1, 'mieles': 1, 'milagros': 1, 'mojada': 1, 'montaña': 1, 'morados': 1}, 'n': {'negros': 1, 'ni': 2, 'no': 1, 'nácar': 1, 'nívea': 2}, 'p': {'perdone': 2, 'perfume': 1, 'por': 2, 'pretendes': 3, 'preténdeme': 3, 'puesto': 1, 'pájaros': 1, 'pámpanos': 1}, 'q': {'que': 6, 'quedó': 1, 'quieres': 6}, 'r': {'rayo': 1, 'raíz': 1, 'renueva': 1, 'rocas': 1, 'rojo': 1}, 's': {'salitre': 1, 'se': 2, 'sea': 1, 'sean': 1, 'sobre': 2, 'sé': 1}, 't': {'te': 3, 'tejidos': 1, 'tenue': 1, 'tierra': 1, 'toca': 1, 'todas': 2, 'todavía': 1, 'tornadas': 1, 'tú': 8}, 'u': {'un': 1, 'una': 1}, 'v': {'vestido': 1, 'vete': 1, 'vive': 1}, 'y': {'y': 5}}\n"
     ]
    }
   ],
   "source": [
    "contadorOrdenado()"
   ]
  }
 ],
 "metadata": {
  "kernelspec": {
   "display_name": "Python 3",
   "language": "python",
   "name": "python3"
  },
  "language_info": {
   "codemirror_mode": {
    "name": "ipython",
    "version": 3
   },
   "file_extension": ".py",
   "mimetype": "text/x-python",
   "name": "python",
   "nbconvert_exporter": "python",
   "pygments_lexer": "ipython3",
   "version": "3.13.3"
  }
 },
 "nbformat": 4,
 "nbformat_minor": 5
}
