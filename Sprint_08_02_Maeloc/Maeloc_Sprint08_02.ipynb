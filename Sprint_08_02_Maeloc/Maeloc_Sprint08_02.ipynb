{
 "cells": [
  {
   "cell_type": "markdown",
   "id": "fc3c3300",
   "metadata": {},
   "source": [
    "EXTRA: Se importan los dataframes en Power BI:"
   ]
  },
  {
   "cell_type": "markdown",
   "id": "87307a6f",
   "metadata": {},
   "source": [
    "- Se importan las librerías correspondientes:\n",
    "\n",
    "    - Pymysql y cryptography para conectarse a la base de datos de MySql\n",
    "    - Pandas para guardar y manipular los data frames\n",
    "\n",
    "- Se crea la conexion con el servidor y la base de datos\n",
    "- Se mete cada tabla de la base de datos en un data frame\n",
    "- Se manipulan las variables numéricas de cada dataframe para formatearlas como \"str\" y cambiar los \".\" por \",\" (Power BI trabaja con comas en lugar de puntos).\n",
    "\n",
    "    *También se puede cambiar la manera de leer los decimales en un archivo d epower BI pero suele fallar bastante"
   ]
  },
  {
   "cell_type": "code",
   "execution_count": null,
   "id": "e4d8dfed",
   "metadata": {},
   "outputs": [],
   "source": [
    "import pymysql\n",
    "import cryptography\n",
    "import pandas as pd\n",
    "\n",
    "connection = pymysql.connect(host='localhost',\n",
    "                             user='root',\n",
    "                             password='4321',\n",
    "                             database='business_db')\n",
    "\n",
    "transactionsDf = pd.read_sql_query('select * from transactions', connection)\n",
    "\n",
    "transactionsDf['amount'] = transactionsDf['amount'].astype(str)\n",
    "transactionsDf['amount'] = transactionsDf['amount'].str.replace('.', ',')\n",
    "transactionsDf['lat'] = transactionsDf['lat'].astype(str)\n",
    "transactionsDf['lat'] = transactionsDf['lat'].str.replace('.', ',')\n",
    "transactionsDf['longitude'] = transactionsDf['longitude'].astype(str)\n",
    "transactionsDf['longitude'] = transactionsDf['longitude'].str.replace('.', ',')\n",
    "\n",
    "companiesDf = pd.read_sql_query('select * from companies', connection)\n",
    "creditCardsDf = pd.read_sql_query('select * from credit_cards', connection)\n",
    "productsDf = pd.read_sql_query('select * from products', connection)\n",
    "\n",
    "productsDf['weight'] = productsDf['weight'].astype(str)\n",
    "productsDf['weight'] = productsDf['weight'].str.replace('.', ',')\n",
    "productsDf['price_dollars'] = productsDf['price_dollars'].astype(str)\n",
    "productsDf['price_dollars'] = productsDf['price_dollars'].str.replace('.', ',')\n",
    "\n",
    "usersDf = pd.read_sql_query('select * from users', connection)\n",
    "boughtProductsDf = pd.read_sql_query('select * from bought_products', connection)"
   ]
  },
  {
   "cell_type": "markdown",
   "id": "9c9d907d",
   "metadata": {},
   "source": [
    "Posteriormente se formatean los tipos de las columnas (Int, float, etc. Según sea necesario) y se establecen las conexiones entre las tablas (creadas previamente usando los dataframes), usando las keys correspondientes."
   ]
  },
  {
   "cell_type": "markdown",
   "id": "a5e5f2ab",
   "metadata": {},
   "source": [
    "![Conexiones Power BI](A_Conexiones.png)"
   ]
  },
  {
   "cell_type": "markdown",
   "id": "4961c46a",
   "metadata": {},
   "source": [
    "Con todo seteado para trabajar en el informe, se procede ahora a mostrar cada gráfico de manera individual, las partes que lo componen y el código subyacente."
   ]
  },
  {
   "cell_type": "markdown",
   "id": "b33fb418",
   "metadata": {},
   "source": [
    "NIVEL 1"
   ]
  },
  {
   "cell_type": "markdown",
   "id": "1b5812df",
   "metadata": {},
   "source": [
    "EJERCICIO 1: \"Distribución del Amount por Venta\"\n",
    "\n",
    "Corresponde al Ejercicio 1 del Nivel 1 (8.1) (\"Una Variable Numérica\").\n",
    "\n",
    "Campos seleccionados:\n",
    "- transactionsDf.amount\n",
    "\n",
    "Además, también se ha usado el campo transactionsDf.declined para filtrar por declined == 0"
   ]
  },
  {
   "cell_type": "markdown",
   "id": "a8244ffd",
   "metadata": {},
   "source": [
    "![Nivel 1 / Ejercicio 1](A_LVL1E1.png)"
   ]
  },
  {
   "cell_type": "code",
   "execution_count": null,
   "id": "a867e192",
   "metadata": {},
   "outputs": [],
   "source": [
    "# El código siguiente, que crea un dataframe y quita las filas duplicadas, siempre se ejecuta y actúa como un preámbulo del script: \n",
    "\n",
    "# dataset = pandas.DataFrame(amount)\n",
    "# dataset = dataset.drop_duplicates()\n",
    "\n",
    "# Pegue o escriba aquí el código de script:\n",
    "\n",
    "import seaborn as sns\n",
    "import matplotlib.pyplot as plt\n",
    "sns.set_style('darkgrid')\n",
    "\n",
    "sns.catplot(dataset['amount'], \n",
    "            kind = 'box')\n",
    "plt.xlabel('Amount ($)')\n",
    "\n",
    "plt.show()"
   ]
  },
  {
   "cell_type": "markdown",
   "id": "05d8fd9d",
   "metadata": {},
   "source": [
    "EJERCICIO 2: \"Relación del Peso del Producto y su Precio\"\n",
    "\n",
    "Corresponde al Ejercicio 2 del Nivel 1 (8.1) (\"Dos Variable Numéricas\").\n",
    "\n",
    "Campos seleccionados:\n",
    "- productsDf.weight\n",
    "- productsDf.price_dollars"
   ]
  },
  {
   "cell_type": "markdown",
   "id": "94b211b9",
   "metadata": {},
   "source": [
    "![Nivel 1 / Ejercicio 2](A_LVL1E2.png)"
   ]
  },
  {
   "cell_type": "code",
   "execution_count": null,
   "id": "20995162",
   "metadata": {},
   "outputs": [],
   "source": [
    "# El código siguiente, que crea un dataframe y quita las filas duplicadas, siempre se ejecuta y actúa como un preámbulo del script: \n",
    "\n",
    "# dataset = pandas.DataFrame(weight, price_dollars)\n",
    "# dataset = dataset.drop_duplicates()\n",
    "\n",
    "# Pegue o escriba aquí el código de script:\n",
    "\n",
    "import pandas as pd\n",
    "import seaborn as sns\n",
    "import matplotlib.pyplot as plt\n",
    "sns.set_style('darkgrid')\n",
    "\n",
    "sns.relplot(dataset, \n",
    "            x= 'weight', y= 'price_dollars', \n",
    "            kind='line', \n",
    "            errorbar= 'sd')\n",
    "plt.xlabel('Peso (Kg)')\n",
    "plt.ylabel('Precio ($)')\n",
    "\n",
    "plt.show()"
   ]
  },
  {
   "cell_type": "markdown",
   "id": "29598b5e",
   "metadata": {},
   "source": [
    "EJERCICIO 3: \"Ratio de Venta por Producto\"\n",
    "\n",
    "Corresponde al Ejercicio 3 del Nivel 1 (8.1) (\"Una Variable Categórica\").\n",
    "\n",
    "Campos seleccionados:\n",
    "- productsDf.product_name\n",
    "- boughtProductsDf.product_id\n",
    "- boughtProductsDf.transactions_id\n",
    "- boughtProductsDf.index*\n",
    "\n",
    "*Esta columna (columna de index por default de Power Query) se ha creado porque los scripts de Python en Power BI eliminan las filas duplicadas. En esta tabla puente (Bought Products), hay pedidos que repiten productos en  alguna ocasión. Sin este index los datos quedarían incompletos"
   ]
  },
  {
   "cell_type": "markdown",
   "id": "f952fe8b",
   "metadata": {},
   "source": [
    "![Nivel 1 / Ejercicio 3](A_LVL1E3.png)"
   ]
  },
  {
   "cell_type": "code",
   "execution_count": null,
   "id": "0a6bf498",
   "metadata": {},
   "outputs": [],
   "source": [
    "# El código siguiente, que crea un dataframe y quita las filas duplicadas, siempre se ejecuta y actúa como un preámbulo del script: \n",
    "\n",
    "# dataset = pandas.DataFrame(product_name, id, id.1)\n",
    "# dataset = dataset.drop_duplicates()\n",
    "\n",
    "# Pegue o escriba aquí el código de script:\n",
    "\n",
    "import pandas as pd\n",
    "import plotly.express as px\n",
    "\n",
    "dataset = dataset.groupby('product_id').agg({'transactions_id': 'count', 'product_name': 'first', 'index':'first'}).reset_index()\n",
    "dataset = dataset.drop(columns='index')\n",
    "\n",
    "cpvPie = px.pie(dataset, \n",
    "                values='transactions_id',\n",
    "                names='product_name',\n",
    "                color_discrete_sequence=px.colors.sequential.ice)\n",
    "\n",
    "cpvPie.update_traces(insidetextorientation='radial')\n",
    "\n",
    "cpvPie.update_layout(\n",
    "    margin = dict(t=50, l=100, r=10, b=50))\n",
    "\n",
    "cpvPie.write_image(\"pie_products.png\")"
   ]
  },
  {
   "cell_type": "markdown",
   "id": "5437bc68",
   "metadata": {},
   "source": [
    "EJERCICIO 4: \"Ingresos por User Cohort\"\n",
    "\n",
    "Corresponde al Ejercicio 4 del Nivel 1 (8.1) (\"Una Variable Categórica y una Numérica\").\n",
    "\n",
    "Campos seleccionados:\n",
    "- transactionsDf.amount\n",
    "- usersDf.user_cohot\n",
    "\n",
    "Además, también se ha usado el campo transactionsDf.declined para filtrar por declined == 0"
   ]
  },
  {
   "cell_type": "markdown",
   "id": "c4422df1",
   "metadata": {},
   "source": [
    "![Nivel 1 / Ejercicio 4](A_LVL1E4.png)"
   ]
  },
  {
   "cell_type": "code",
   "execution_count": null,
   "id": "cbcadced",
   "metadata": {},
   "outputs": [],
   "source": [
    "# El código siguiente, que crea un dataframe y quita las filas duplicadas, siempre se ejecuta y actúa como un preámbulo del script: \n",
    "\n",
    "# dataset = pandas.DataFrame(amount, user_cohort)\n",
    "# dataset = dataset.drop_duplicates()\n",
    "\n",
    "# Pegue o escriba aquí el código de script:\n",
    "\n",
    "import plotly.express as px\n",
    "\n",
    "cpvPie = px.pie(dataset, \n",
    "                values='amount', \n",
    "                names='user_cohort', \n",
    "                color_discrete_sequence=px.colors.sequential.Magma_r)\n",
    "\n",
    "cpvPie.update_layout(\n",
    "    margin = dict(t=0, l=0, r=0, b=0))\n",
    "\n",
    "cpvPie.write_image(\"amount_per_cohort.png\")"
   ]
  },
  {
   "cell_type": "markdown",
   "id": "ab61a8b5",
   "metadata": {},
   "source": [
    "EJERCICIO 5: \"Dirección de las Transacciones Realizadas\"\n",
    "\n",
    "Corresponde al Ejercicio 5 del Nivel 1 (8.1) (\"Dos Variables Categóricas\").\n",
    "\n",
    "Campos seleccionados:\n",
    "- transactionsDf.id\n",
    "- usersDf.country_user\n",
    "- companiesDf.country\n",
    "\n",
    "Además, también se ha usado el campo transactionsDf.declined para filtrar por declined == 0"
   ]
  },
  {
   "cell_type": "markdown",
   "id": "5cfa6fa3",
   "metadata": {},
   "source": [
    "![Nivel 1 / Ejercicio 5](A_LVL1E5.png)"
   ]
  },
  {
   "cell_type": "code",
   "execution_count": null,
   "id": "4e153f36",
   "metadata": {},
   "outputs": [],
   "source": [
    "# El código siguiente, que crea un dataframe y quita las filas duplicadas, siempre se ejecuta y actúa como un preámbulo del script: \n",
    "\n",
    "# dataset = pandas.DataFrame(country_user, country, id)\n",
    "# dataset = dataset.drop_duplicates()\n",
    "\n",
    "# Pegue o escriba aquí el código de script:\n",
    "import matplotlib.pyplot as plt\n",
    "import seaborn as sns\n",
    "sns.set_style('darkgrid')\n",
    "\n",
    "sns.displot(dataset, \n",
    "            x='country', y='country_user', \n",
    "            height=4, aspect=4.75, \n",
    "            cbar= True,\n",
    "            col_order = ['Canada', 'United Kingdom', 'United States'])\n",
    "\n",
    "plt.show()"
   ]
  },
  {
   "cell_type": "markdown",
   "id": "64952281",
   "metadata": {},
   "source": [
    "EJERCICIO 6: \"Ingresos por País y Empresa\"\n",
    "\n",
    "Corresponde al Ejercicio 6 del Nivel 1 (8.1) (\"Tres Variables\").\n",
    "\n",
    "Campos seleccionados:\n",
    "- transactionsDf.amount\n",
    "- companiesDf.country\n",
    "- companiesDf.company_name\n",
    "- companiesDf.company_id\n",
    "\n",
    "Además, también se ha usado el campo transactionsDf.declined para filtrar por declined == 0"
   ]
  },
  {
   "cell_type": "markdown",
   "id": "b5d50ecd",
   "metadata": {},
   "source": [
    "![Nivel 1 / Ejercicio 6](A_LVL1E6.png)"
   ]
  },
  {
   "cell_type": "code",
   "execution_count": null,
   "id": "2b9ea31c",
   "metadata": {},
   "outputs": [],
   "source": [
    "# El código siguiente, que crea un dataframe y quita las filas duplicadas, siempre se ejecuta y actúa como un preámbulo del script: \n",
    "\n",
    "# dataset = pandas.DataFrame(amount, company_name, country)\n",
    "# dataset = dataset.drop_duplicates()\n",
    "\n",
    "# Pegue o escriba aquí el código de script:\n",
    "\n",
    "import pandas as pd\n",
    "import plotly.express as px\n",
    "\n",
    "dataset = dataset.groupby('company_id').agg({'amount': 'sum', 'company_name':'first', 'country':'first'}).reset_index()\n",
    "\n",
    "# Crea gráfico sunburst\n",
    "fig = px.sunburst(dataset,\n",
    "                  path=['country', 'company_name'], \n",
    "                  values='amount',\n",
    "                  width=1000,\n",
    "                  height=1000)\n",
    "\n",
    "fig.update_traces(insidetextorientation='radial')\n",
    "\n",
    "fig.update_layout(\n",
    "    margin = dict(t=0, l=0, r=0, b=0))\n",
    "\n",
    "fig.write_image(\"sunburst.png\")"
   ]
  },
  {
   "cell_type": "markdown",
   "id": "11b60366",
   "metadata": {},
   "source": [
    "EJERCICIO 7: \"Contenido del Pedido por Transacción\"\n",
    "\n",
    "Corresponde al Ejercicio 7 del Nivel 1 (8.1) (\"Graficar un Pairplot\").\n",
    "\n",
    "Campos seleccionados:\n",
    "- transactionsDf.id\n",
    "- transactionsDf.amount\n",
    "- transactionsDf.cantidad_productos\n",
    "- productsDf.weight\n",
    "- boughtProductsDf.index\n",
    "\n",
    "Además, también se ha usado el campo transactionsDf.declined para filtrar por declined == 0"
   ]
  },
  {
   "cell_type": "markdown",
   "id": "c8fbf995",
   "metadata": {},
   "source": [
    "![Nivel 1 / Ejercicio 7](A_LVL1E7.png)"
   ]
  },
  {
   "cell_type": "code",
   "execution_count": null,
   "id": "a1a264ec",
   "metadata": {},
   "outputs": [],
   "source": [
    "# El código siguiente, que crea un dataframe y quita las filas duplicadas, siempre se ejecuta y actúa como un preámbulo del script: \n",
    "\n",
    "# dataset = pandas.DataFrame(id, amount, weight, cantidad_productos)\n",
    "# dataset = dataset.drop_duplicates()\n",
    "\n",
    "# Pegue o escriba aquí el código de script:\n",
    "\n",
    "import pandas as pd\n",
    "import matplotlib.pyplot as plt\n",
    "import seaborn as sns\n",
    "sns.set_style('darkgrid')\n",
    "\n",
    "dataset = dataset.groupby('id').agg({'amount':'sum', 'weight':'sum', 'cantidad_productos':'first', 'index':'first'}).reset_index().rename(columns={'amount':'amount ($)', 'weight':'weight (Kg)'})\n",
    "\n",
    "dataset = dataset.drop(columns='index')\n",
    "\n",
    "grid = sns.PairGrid(dataset, \n",
    "                    diag_sharey=False)\n",
    "grid.map_diag(sns.kdeplot, \n",
    "              fill=True)\n",
    "grid.map_lower(sns.scatterplot, \n",
    "               alpha=0.5)\n",
    "grid.map_upper(sns.kdeplot)\n",
    "\n",
    "plt.show()"
   ]
  },
  {
   "cell_type": "markdown",
   "id": "f187aead",
   "metadata": {},
   "source": [
    "NIVEL 2"
   ]
  },
  {
   "cell_type": "markdown",
   "id": "e3d80270",
   "metadata": {},
   "source": [
    "EJERCICIO 1: \"Correlación de Todas las Variable Numéricas\"\n",
    "\n",
    "Corresponde al Ejercicio 1 del Nivel 2 (8.1) (\"Correlación de todas las variables numéricas\").\n",
    "\n",
    "Campos seleccionados:\n",
    "- transactionsDf.amount\n",
    "- transactionsDf.lat\n",
    "- transactionsDf.longitude\n",
    "- transactionsDf.cantidad_productos\n",
    "- productsDf.price_dollars\n",
    "- productsDf.weight\n",
    "- boughtProductsDf.index\n",
    "- transactionsDf.id\n",
    "\n",
    "Además, también se ha usado el campo transactionsDf.declined para filtrar por declined == 0"
   ]
  },
  {
   "cell_type": "markdown",
   "id": "e8ddbc97",
   "metadata": {},
   "source": [
    "![Nivel 2 / Ejercicio 1](A_LVL2E1.png)"
   ]
  },
  {
   "cell_type": "code",
   "execution_count": null,
   "id": "f3602012",
   "metadata": {},
   "outputs": [],
   "source": [
    "# El código siguiente, que crea un dataframe y quita las filas duplicadas, siempre se ejecuta y actúa como un preámbulo del script: \n",
    "\n",
    "# dataset = pandas.DataFrame(amount, lat, longitude, cantidad_productos, price_dollars, weight)\n",
    "# dataset = dataset.drop_duplicates()\n",
    "\n",
    "# Pegue o escriba aquí el código de script:\n",
    "import pandas as pd\n",
    "import matplotlib.pyplot as plt\n",
    "import seaborn as sns\n",
    "sns.set_style('darkgrid')\n",
    "\n",
    "todoNumerico = dataset.groupby('id').agg({'amount':'first', 'cantidad_productos':'first', 'price_dollars':'sum', 'weight':'sum','lat':'first', 'longitude':'first', 'index':'first'}).reset_index().rename(columns={'amount':'amount ($)', 'price_dollars':'price ($)', 'weight':'weight (Kg)'})\n",
    "todoNumerico = todoNumerico.drop(columns=['id','index'])\n",
    "todoNumericoCorr = todoNumerico.corr()\n",
    "\n",
    "\n",
    "minValues = todoNumericoCorr.min() # Min de cada columna en una nueva columna\n",
    "minValues = minValues.min() # Min de todos los min\n",
    "\n",
    "fig, ax = plt.subplots(figsize=(10,10))    \n",
    "sns.heatmap(todoNumericoCorr, \n",
    "            vmin=minValues, \n",
    "            annot=True, \n",
    "            linewidths= 0.5, \n",
    "            cmap='crest', \n",
    "            square=True)\n",
    "\n",
    "plt.show()"
   ]
  },
  {
   "cell_type": "markdown",
   "id": "436d9a24",
   "metadata": {},
   "source": [
    "EJERCICIO 2: \"Distribución y Relación de la Cantidad de Productos  Según la Media de Amount\"\n",
    "\n",
    "Corresponde al Ejercicio 2 del Nivel 2 (8.1) (\"Implementa un jointplot\").\n",
    "\n",
    "Campos seleccionados:\n",
    "- transactionsDf.amount\n",
    "- transactionsDf.cantidad_productos\n",
    "- transactionsDf.declined"
   ]
  },
  {
   "cell_type": "markdown",
   "id": "92e2b542",
   "metadata": {},
   "source": [
    "![Nivel 2 / Ejercicio 2](A_LVL2E2.png)"
   ]
  },
  {
   "cell_type": "code",
   "execution_count": null,
   "id": "e7d93a65",
   "metadata": {},
   "outputs": [],
   "source": [
    "# El código siguiente, que crea un dataframe y quita las filas duplicadas, siempre se ejecuta y actúa como un preámbulo del script: \n",
    "\n",
    "# dataset = pandas.DataFrame(amount, cantidad_productos)\n",
    "# dataset = dataset.drop_duplicates()\n",
    "\n",
    "# Pegue o escriba aquí el código de script:\n",
    "\n",
    "import pandas as pd\n",
    "import matplotlib.pyplot as plt\n",
    "import seaborn as sns\n",
    "sns.set_style('darkgrid')\n",
    "\n",
    "ticks = dataset['cantidad_productos'].sort_values(ascending=True).unique() #Si no crea columnas x.5 para cada cantidad\n",
    "\n",
    "\n",
    "relPlotNum = sns.JointGrid(dataset, \n",
    "                           y='amount', x='cantidad_productos', \n",
    "                           hue='declined',\n",
    "                           height= 8 )\n",
    "relPlotNum.plot_joint(sns.kdeplot)\n",
    "relPlotNum.plot_marginals(sns.histplot, \n",
    "                          kde=True)\n",
    "relPlotNum.ax_joint.set_xticks(ticks)\n",
    "relPlotNum.ax_joint.set_xlabel('Cantidad de Productos por Pedido')\n",
    "relPlotNum.ax_joint.set_ylabel('Amount ($)')\n",
    "\n",
    "plt.show()"
   ]
  },
  {
   "cell_type": "markdown",
   "id": "07cf1f93",
   "metadata": {},
   "source": [
    "NIVEL 3"
   ]
  },
  {
   "cell_type": "markdown",
   "id": "6f3e63d4",
   "metadata": {},
   "source": [
    "EJERCICIO 1: \"Distribución del Amount en las Transacciones por País y Tipo\"\n",
    "\n",
    "Corresponde al Ejercicio 1 del Nivel 3 (8.1) (\"Implementa un violinplot combinado con otro tipo de gráfico\").\n",
    "\n",
    "Campos seleccionados:\n",
    "- usersDf.country_user\n",
    "- transactionsDf.amount\n",
    "- transactionsDf.declined"
   ]
  },
  {
   "cell_type": "markdown",
   "id": "7a41b38a",
   "metadata": {},
   "source": [
    "![Nivel 3 / Ejercicio 1](A_LVL3E1.png)"
   ]
  },
  {
   "cell_type": "code",
   "execution_count": null,
   "id": "60ac61b9",
   "metadata": {},
   "outputs": [],
   "source": [
    "# El código siguiente, que crea un dataframe y quita las filas duplicadas, siempre se ejecuta y actúa como un preámbulo del script: \n",
    "\n",
    "# dataset = pandas.DataFrame(country_user, amount, declined)\n",
    "# dataset = dataset.drop_duplicates()\n",
    "\n",
    "# Pegue o escriba aquí el código de script:\n",
    "import pandas as pd\n",
    "import matplotlib.pyplot as plt\n",
    "import seaborn as sns\n",
    "sns.set_style('darkgrid')\n",
    "\n",
    "orderDf = dataset.groupby('country_user')['amount'].count().sort_values(ascending=False).index\n",
    "\n",
    "base = sns.catplot(dataset, \n",
    "                   kind='violin', \n",
    "                   split=True, \n",
    "                   x='country_user', y='amount', \n",
    "                   hue='declined', \n",
    "                   inner='quart', \n",
    "                   order=orderDf, \n",
    "                   aspect=2)\n",
    "sns.swarmplot(dataset, x='country_user', y='amount', hue= 'declined', ax=base.ax, palette='dark:white', size=4)\n",
    "\n",
    "plt.show()"
   ]
  },
  {
   "cell_type": "markdown",
   "id": "3a38d85d",
   "metadata": {},
   "source": [
    "EJERCICIO 2: \"Distribución de las Ventas por País y Hora\"\n",
    "\n",
    "Corresponde al Ejercicio 2 del Nivel 3 (8.1) (\"Genera un FacetGrid para visualizar múltiples aspectos de datos simultáneamente\").\n",
    "\n",
    "Campos seleccionados:\n",
    "- usersDf.country_user\n",
    "- transactionsDf.id\n",
    "- transactionsDf.hora*\n",
    "\n",
    "Además, también se ha usado el campo transactionsDf.declined para filtrar por declined == 0\n",
    "\n",
    "*Se ha creado una columna nueva en DAX donde aparece la \"hora\" del timestamp asociado a cada record"
   ]
  },
  {
   "cell_type": "markdown",
   "id": "10f65c81",
   "metadata": {},
   "source": [
    "![Nivel 3 / Ejercicio 2](A_LVL3E2.png)"
   ]
  },
  {
   "cell_type": "code",
   "execution_count": null,
   "id": "169b57f8",
   "metadata": {},
   "outputs": [],
   "source": [
    "# El código siguiente, que crea un dataframe y quita las filas duplicadas, siempre se ejecuta y actúa como un preámbulo del script: \n",
    "\n",
    "# dataset = pandas.DataFrame(hora, country_user)\n",
    "# dataset = dataset.drop_duplicates()\n",
    "\n",
    "# Pegue o escriba aquí el código de script:\n",
    "import pandas as pd\n",
    "import matplotlib.pyplot as plt\n",
    "import seaborn as sns\n",
    "sns.set_style('darkgrid')\n",
    "\n",
    "orderDf = dataset.groupby('country_user')['id'].count().sort_values(ascending=False).index\n",
    "\n",
    "facetOrderDf = dataset['hora'].sort_values(ascending=True)\n",
    "facetOrderDf = facetOrderDf.unique()\n",
    "\n",
    "g = sns.FacetGrid(dataset, \n",
    "                  col='country_user', \n",
    "                  col_order=orderDf,\n",
    "                  height=5, aspect=1)\n",
    "g.map(sns.countplot, 'hora', order=facetOrderDf)\n",
    "g.set_axis_labels('Hora', 'Transacciones')\n",
    "g.set_titles(col_template='{col_name}')\n",
    "g.fig.suptitle('Ventas Distribuidas por Hora y Región', y=1.05, x=0.53)\n",
    "\n",
    "plt.show()"
   ]
  }
 ],
 "metadata": {
  "kernelspec": {
   "display_name": "Python 3",
   "language": "python",
   "name": "python3"
  },
  "language_info": {
   "codemirror_mode": {
    "name": "ipython",
    "version": 3
   },
   "file_extension": ".py",
   "mimetype": "text/x-python",
   "name": "python",
   "nbconvert_exporter": "python",
   "pygments_lexer": "ipython3",
   "version": "3.13.3"
  }
 },
 "nbformat": 4,
 "nbformat_minor": 5
}
